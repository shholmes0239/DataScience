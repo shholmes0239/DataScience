{
 "cells": [
  {
   "cell_type": "markdown",
   "metadata": {},
   "source": [
    "Data Science Fundamentals: Python |\n",
    "[Table of Contents](../index.ipynb)\n",
    "- - - \n",
    "<!--NAVIGATION-->\n",
    "Module 7. | [Objects and Classes](./01_obj_classes.ipynb) | [Examples of Objects and Classes](./02_ex_obj_classes.ipynb) | **[Exercises](./03_obj_classes_exercises.ipynb)**"
   ]
  },
  {
   "cell_type": "markdown",
   "metadata": {},
   "source": [
    "# Module 7: Practice Exercises"
   ]
  },
  {
   "cell_type": "markdown",
   "metadata": {},
   "source": [
    "## Exercise 1. "
   ]
  },
  {
   "cell_type": "markdown",
   "metadata": {},
   "source": [
    "[See Hacker Rank Problem](https://www.hackerrank.com/challenges/class-1-dealing-with-complex-numbers/problem)"
   ]
  },
  {
   "cell_type": "markdown",
   "metadata": {},
   "source": [
    "### Classes: Dealing with Complex Numbers"
   ]
  },
  {
   "cell_type": "markdown",
   "metadata": {},
   "source": [
    "For this challenge, you are given two complex numbers, and you have to print the result of their addition, subtraction, multiplication, division and modulus operations.\n",
    "\n",
    "The real and imaginary precision part should be correct up to two decimal places."
   ]
  },
  {
   "cell_type": "markdown",
   "metadata": {},
   "source": [
    "**Input Format**"
   ]
  },
  {
   "cell_type": "markdown",
   "metadata": {},
   "source": [
    "One line of input: The real and imaginary part of a number separated by a space."
   ]
  },
  {
   "cell_type": "markdown",
   "metadata": {},
   "source": [
    "**Output Format**"
   ]
  },
  {
   "cell_type": "markdown",
   "metadata": {},
   "source": [
    "For two complex numbers **C** and **D**, the output should be in the following sequence on separate lines:"
   ]
  },
  {
   "cell_type": "markdown",
   "metadata": {},
   "source": [
    "![screenshot](files/screenshot.png)"
   ]
  },
  {
   "cell_type": "markdown",
   "metadata": {},
   "source": [
    "**Sample Input**"
   ]
  },
  {
   "cell_type": "raw",
   "metadata": {},
   "source": [
    "2 1\n",
    "5 6"
   ]
  },
  {
   "cell_type": "markdown",
   "metadata": {},
   "source": [
    "**Sample Output**"
   ]
  },
  {
   "cell_type": "raw",
   "metadata": {},
   "source": [
    "7.00+7.00i\n",
    "-3.00-5.00i\n",
    "4.00+17.00i\n",
    "0.26-0.11i\n",
    "2.24+0.00i\n",
    "7.81+0.00i"
   ]
  },
  {
   "cell_type": "markdown",
   "metadata": {},
   "source": [
    "**Concept**"
   ]
  },
  {
   "cell_type": "markdown",
   "metadata": {},
   "source": [
    "Python is a fully object-oriented language like C++, Java, etc. For reading about classes, refer here.\n",
    "\n",
    "Methods with a double underscore before and after their name are considered as built-in methods. They are used by interpreters and are generally used in the implementation of overloaded operators or other built-in functionality."
   ]
  },
  {
   "cell_type": "markdown",
   "metadata": {},
   "source": [
    "```__add__-> Can be overloaded for + operation```"
   ]
  },
  {
   "cell_type": "markdown",
   "metadata": {},
   "source": [
    "```__sub__ -> Can be overloaded for - operation```"
   ]
  },
  {
   "cell_type": "markdown",
   "metadata": {},
   "source": [
    "```__mul__ -> Can be overloaded for * operation```"
   ]
  },
  {
   "cell_type": "markdown",
   "metadata": {},
   "source": [
    "For operator overloading see [Data Model Reference](https://docs.python.org/3.2/reference/datamodel.html)"
   ]
  },
  {
   "cell_type": "code",
   "execution_count": 5,
   "metadata": {},
   "outputs": [],
   "source": [
    "class Complex(complex):\n",
    "    def __add__(self, no):\n",
    "        return Complex(complex.__add__(self, no))\n",
    "\n",
    "    def __sub__(self, no):\n",
    "        return Complex(complex.__sub__(self, no))\n",
    "\n",
    "    def __mul__(self, no):\n",
    "        return Complex(complex.__mul__(self, no))\n",
    "\n",
    "    def __truediv__(self, no):\n",
    "        return Complex(complex.__truediv__(self, no))\n",
    "\n",
    "    def mod(self):\n",
    "        return Complex(complex.__abs__(self))\n",
    "\n",
    "    def __str__(self):\n",
    "        return '{0.real:.2f}{0.imag:+.2f}i'.format(self)"
   ]
  },
  {
   "cell_type": "code",
   "execution_count": 4,
   "metadata": {},
   "outputs": [],
   "source": [
    "class Complex(object):\n",
    "    def __init__(self, real, imaginary):\n",
    "        self.real=real\n",
    "        self.imaginary=imaginary\n",
    "        \n",
    "    def __add__(self, no):\n",
    "        a = self.real\n",
    "        b = self.imaginary\n",
    "        c = no.real\n",
    "        d = no.imaginary\n",
    "        return Complex(a+c,b+d)\n",
    "    \n",
    "    def __sub__(self, no):\n",
    "        a = self.real\n",
    "        b = self.imaginary\n",
    "        c = no.real\n",
    "        d = no.imaginary\n",
    "        return Complex(a-c,b-d)        \n",
    "        \n",
    "    def __mul__(self, no):\n",
    "        a = self.real\n",
    "        b = self.imaginary\n",
    "        c = no.real\n",
    "        d = no.imaginary\n",
    "        real_mult = (a * c) - (b * d)\n",
    "        imag_mult = (a * d) + (b * c)\n",
    "        return Complex(real_mult,imag_mult)\n",
    "        \n",
    "    def __div__(self, no):\n",
    "        a = self.real\n",
    "        b = self.imaginary\n",
    "        c = no.real\n",
    "        d = no.imaginary\n",
    "        real_numerator = a * c + b * d\n",
    "        imag_numerator = b * c - a * d\n",
    "        denom = c * c + d * d\n",
    "        real_div = real_numerator / denom\n",
    "        imag_div = imag_numerator / denom\n",
    "        return Complex(real_div, imag_div)\n",
    "    \n",
    "    def mod(self):\n",
    "        a = self.real\n",
    "        b = self.imaginary\n",
    "        return Complex(math.sqrt(a**2+b**2),0)"
   ]
  },
  {
   "cell_type": "markdown",
   "metadata": {},
   "source": [
    "[Submit Hacker Rank Problem](https://www.hackerrank.com/challenges/class-1-dealing-with-complex-numbers/submissions)"
   ]
  },
  {
   "cell_type": "markdown",
   "metadata": {},
   "source": [
    "- - - \n",
    "<!--NAVIGATION-->\n",
    "Module 7. | [Objects and Classes](./01_obj_classes.ipynb) | [Examples of Objects and Classes](./02_ex_obj_classes.ipynb) | **[Exercises](./03_obj_classes_exercises.ipynb)**"
   ]
  },
  {
   "cell_type": "markdown",
   "metadata": {},
   "source": [
    "- - -\n",
    "\n",
    "Copyright © 2020 Qualex Consulting Services Incorporated."
   ]
  },
  {
   "cell_type": "code",
   "execution_count": null,
   "metadata": {},
   "outputs": [],
   "source": []
  }
 ],
 "metadata": {
  "kernelspec": {
   "display_name": "Python 3",
   "language": "python",
   "name": "python3"
  },
  "language_info": {
   "codemirror_mode": {
    "name": "ipython",
    "version": 3
   },
   "file_extension": ".py",
   "mimetype": "text/x-python",
   "name": "python",
   "nbconvert_exporter": "python",
   "pygments_lexer": "ipython3",
   "version": "3.7.6"
  }
 },
 "nbformat": 4,
 "nbformat_minor": 4
}
